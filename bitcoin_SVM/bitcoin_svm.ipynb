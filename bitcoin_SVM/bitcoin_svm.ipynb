{
 "cells": [
  {
   "cell_type": "code",
   "execution_count": 1,
   "metadata": {
    "scrolled": true
   },
   "outputs": [
    {
     "name": "stdout",
     "output_type": "stream",
     "text": [
      "   length  count  looped  neighbors  class  Log income  Log weight\n",
      "0      18      1       0          2      1   18.421181   -4.674163\n",
      "1      44      1       0          1      1   18.420681   -6.689310\n",
      "2       0      1       0          2      1   19.113828    0.001000\n",
      "3      72      1       0          2      1   18.081003   -5.317245\n",
      "4     144    456       0          1      1   19.113828   -2.605741\n",
      "Counter({0: 2875284, 1: 41413})\n"
     ]
    }
   ],
   "source": [
    "import pandas as pd\n",
    "from collections import Counter\n",
    "from sklearn.svm import SVC\n",
    "from sklearn.model_selection import KFold,cross_validate,train_test_split\n",
    "from sklearn.model_selection import train_test_split\n",
    "from sklearn.preprocessing import StandardScaler\n",
    "from imblearn.under_sampling import RandomUnderSampler\n",
    "from imblearn.pipeline import Pipeline\n",
    "from sklearn.pipeline import make_pipeline\n",
    "import numpy as np\n",
    "from sklearn.metrics import average_precision_score,recall_score\n",
    "import matplotlib.pyplot as plt\n",
    "\n",
    "\n",
    "# #extract the data\n",
    "raw_df = pd.read_csv(\"../BitcoinHeistData.csv\")\n",
    "cleaned_df = raw_df.copy()\n",
    "cleaned_df['class']=np.array([0 if x=='white' else 1 for x in cleaned_df.pop('label')])\n",
    "\n",
    "cleaned_df.pop(\"address\")\n",
    "cleaned_df.pop(\"year\")\n",
    "cleaned_df.pop(\"day\")\n",
    "\n",
    "# cleaned_df.pop(\"looped\")\n",
    "eps=0.001 # 0 => 0.1¢\n",
    "cleaned_df['Log income'] = np.log(cleaned_df.pop('income')+eps)\n",
    "cleaned_df['Log weight'] = np.log(cleaned_df.pop('weight')+eps)\n",
    "print(cleaned_df.head(5))\n",
    "\n",
    "#summarize the data distribution\n",
    "y=np.array(cleaned_df['class'])\n",
    "X=np.array(cleaned_df.iloc[:,:-1])\n",
    "print(Counter(y))\n",
    "\n",
    "#rescale data\n",
    "scaler = StandardScaler()\n",
    "X = scaler.fit_transform(X)\n",
    "\n",
    "\n",
    "#define the undersampling method\n",
    "under = RandomUnderSampler(sampling_strategy=0.5)\n",
    "\n"
   ]
  },
  {
   "cell_type": "code",
   "execution_count": 2,
   "metadata": {},
   "outputs": [
    {
     "ename": "NameError",
     "evalue": "name 'recall_train_score_list' is not defined",
     "output_type": "error",
     "traceback": [
      "\u001b[0;31m---------------------------------------------------------------------------\u001b[0m",
      "\u001b[0;31mNameError\u001b[0m                                 Traceback (most recent call last)",
      "\u001b[0;32m<ipython-input-2-0d81e25df4c3>\u001b[0m in \u001b[0;36m<module>\u001b[0;34m\u001b[0m\n\u001b[1;32m     18\u001b[0m \u001b[0;31m# #generate Fig_0,Fig_1\u001b[0m\u001b[0;34m\u001b[0m\u001b[0;34m\u001b[0m\u001b[0;34m\u001b[0m\u001b[0m\n\u001b[1;32m     19\u001b[0m \u001b[0mfig_0\u001b[0m\u001b[0;34m,\u001b[0m \u001b[0maxs\u001b[0m \u001b[0;34m=\u001b[0m \u001b[0mplt\u001b[0m\u001b[0;34m.\u001b[0m\u001b[0msubplots\u001b[0m\u001b[0;34m(\u001b[0m\u001b[0;36m1\u001b[0m\u001b[0;34m,\u001b[0m \u001b[0;36m1\u001b[0m\u001b[0;34m,\u001b[0m \u001b[0mfigsize\u001b[0m\u001b[0;34m=\u001b[0m\u001b[0;34m(\u001b[0m\u001b[0;36m5\u001b[0m\u001b[0;34m,\u001b[0m \u001b[0;36m5\u001b[0m\u001b[0;34m)\u001b[0m\u001b[0;34m,\u001b[0m \u001b[0msharey\u001b[0m\u001b[0;34m=\u001b[0m\u001b[0;32mTrue\u001b[0m\u001b[0;34m)\u001b[0m\u001b[0;34m\u001b[0m\u001b[0;34m\u001b[0m\u001b[0m\n\u001b[0;32m---> 20\u001b[0;31m \u001b[0maxs\u001b[0m\u001b[0;34m.\u001b[0m\u001b[0mplot\u001b[0m\u001b[0;34m(\u001b[0m\u001b[0mkernels\u001b[0m\u001b[0;34m,\u001b[0m\u001b[0mrecall_train_score_list\u001b[0m\u001b[0;34m,\u001b[0m\u001b[0;34m\"r^\"\u001b[0m\u001b[0;34m,\u001b[0m\u001b[0mlinestyle\u001b[0m \u001b[0;34m=\u001b[0m \u001b[0;34m\"--\"\u001b[0m\u001b[0;34m,\u001b[0m \u001b[0mlabel\u001b[0m\u001b[0;34m=\u001b[0m\u001b[0;34m'training data'\u001b[0m\u001b[0;34m)\u001b[0m\u001b[0;34m\u001b[0m\u001b[0;34m\u001b[0m\u001b[0m\n\u001b[0m\u001b[1;32m     21\u001b[0m \u001b[0maxs\u001b[0m\u001b[0;34m.\u001b[0m\u001b[0mplot\u001b[0m\u001b[0;34m(\u001b[0m\u001b[0mkernels\u001b[0m\u001b[0;34m,\u001b[0m\u001b[0mrecall_test_score_list\u001b[0m\u001b[0;34m,\u001b[0m\u001b[0;34m\"b^\"\u001b[0m\u001b[0;34m,\u001b[0m\u001b[0mlinestyle\u001b[0m \u001b[0;34m=\u001b[0m \u001b[0;34m\"--\"\u001b[0m\u001b[0;34m,\u001b[0m\u001b[0mlabel\u001b[0m\u001b[0;34m=\u001b[0m\u001b[0;34m'test data'\u001b[0m\u001b[0;34m)\u001b[0m\u001b[0;34m\u001b[0m\u001b[0;34m\u001b[0m\u001b[0m\n\u001b[1;32m     22\u001b[0m \u001b[0maxs\u001b[0m\u001b[0;34m.\u001b[0m\u001b[0mset_xlabel\u001b[0m\u001b[0;34m(\u001b[0m\u001b[0;34m\"Kernels\"\u001b[0m\u001b[0;34m)\u001b[0m\u001b[0;34m\u001b[0m\u001b[0;34m\u001b[0m\u001b[0m\n",
      "\u001b[0;31mNameError\u001b[0m: name 'recall_train_score_list' is not defined"
     ]
    },
    {
     "data": {
      "image/png": "[encoded data removed]",
      "text/plain": [
       "<Figure size 360x360 with 1 Axes>"
      ]
     },
     "metadata": {
      "needs_background": "light"
     },
     "output_type": "display_data"
    }
   ],
   "source": [
    "##cross validation to find out the best kernel to train the model###\n",
    "t=7\n",
    "cv = KFold(n_splits=t,shuffle=True)\n",
    "AP_train_score_list=[]\n",
    "AP_test_score_list=[]\n",
    "\n",
    "kernels=['linear','poly','rbf','sigmoid']\n",
    "# parameters=(n_neighbors=5, *, weights='uniform', algorithm='auto', leaf_size=30, p=2, metric='minkowski', metric_params=None, n_jobs=None, **kwargs)[source]\n",
    "for kernel in kernels:\n",
    "    svm = SVC(gamma='auto',kernel=kernel,probability=True)\n",
    "    steps = [('under',under),('model',svm)]\n",
    "    pipeline = Pipeline(steps=steps)\n",
    "    scores =  cross_validate(pipeline, X, y, scoring=['average_precision'], cv=cv, n_jobs=-1,return_train_score=True)\n",
    "    \n",
    "    AP_train_score_list.append(sum(scores['train_average_precision'])/t)\n",
    "    AP_test_score_list.append(sum(scores['test_average_precision'])/t)\n",
    "m = len(kernels)\n",
    "# #generate Fig_0,Fig_1\n",
    "fig_0, axs = plt.subplots(1, 1, figsize=(5, 5), sharey=True)\n",
    "axs.plot(kernels,AP_train_score_list,\"r^\",linestyle = \"--\", label='training data')\n",
    "axs.plot(kernels,AP_test_score_list,\"b^\",linestyle = \"--\",label='test data')\n",
    "axs.set_xlabel(\"Kernels\")\n",
    "axs.set_ylabel(\"AP_score\")\n",
    "axs.legend()\n",
    "fig_0.suptitle(\"Fig_1.4.0: AP_score(SVM)\")\n",
    "fig_0.savefig(\"SVM_fig_1.4_tunning:AP_score.png\")\n",
    "\n",
    "\n"
   ]
  },
  {
   "cell_type": "code",
   "execution_count": 5,
   "metadata": {},
   "outputs": [
    {
     "data": {
      "image/png": "[encoded data removed]",
      "text/plain": [
       "<Figure size 720x360 with 2 Axes>"
      ]
     },
     "metadata": {
      "needs_background": "light"
     },
     "output_type": "display_data"
    }
   ],
   "source": [
    "###############Apply kernel=linear to train the model##################\n",
    "Recall_train_score=[]\n",
    "Recall_test_score=[]\n",
    "training_time = []\n",
    "\n",
    "for k in range(4,11):\n",
    "    cv = KFold(n_splits=k,shuffle=True)\n",
    "    svm = SVC(gamma='auto',kernel='linear',probability=True)\n",
    "    steps = [('under',under),('model',svm)]\n",
    "    pipeline = Pipeline(steps=steps)\n",
    "    scores =  cross_validate(pipeline, X, y, scoring=['recall'], cv=cv, n_jobs=-1,return_train_score=True)\n",
    "    Recall_train_score.append(sum(scores['train_recall'])/k)\n",
    "    Recall_test_score.append(sum(scores['test_recall'])/k)\n",
    "    training_time.append(sum(scores['fit_time'])/k)\n",
    "\n",
    "#generate Fig_1.4.1 learning curves with different training size\n",
    "K= range(4,11)\n",
    "fig_1, axs = plt.subplots(1, 2, figsize=(10, 5), sharey=False)\n",
    "axs[0].plot(K,training_time,\"r^\",linestyle = \"--\",label=\"traing_time:seconds\")\n",
    "axs[0].set_xlabel(\"training size k\")\n",
    "axs[0].set_ylabel(\"training time\")\n",
    "axs[1].plot(K,Recall_train_score,\"r^\",linestyle = \"--\",label='training data')\n",
    "axs[1].plot(K,Recall_test_score,\"b^\",linestyle = \"--\",label='test data')\n",
    "axs[1].set_xlabel(\"training size k\")\n",
    "axs[1].set_ylabel(\"Recall_score\")\n",
    "axs[0].legend()\n",
    "axs[1].legend()\n",
    "fig_1.suptitle(\"Fig_1.4.1: recall score(NN)\")\n",
    "fig_1.savefig(\"NN_fig_1.4_trainnig:learning curves.png\")\n",
    "    "
   ]
  },
  {
   "cell_type": "code",
   "execution_count": 6,
   "metadata": {},
   "outputs": [
    {
     "name": "stderr",
     "output_type": "stream",
     "text": [
      "/Users/we/miniconda3/envs/ml_env/lib/python3.7/site-packages/joblib/externals/loky/process_executor.py:691: UserWarning: A worker stopped while some jobs were given to the executor. This can be caused by a too short worker timeout or by a memory leak.\n",
      "  \"timeout or by a memory leak.\", UserWarning\n"
     ]
    },
    {
     "name": "stdout",
     "output_type": "stream",
     "text": [
      "The AP scores on training set and test set are 2.25 2.25\n",
      "The Recall scores on training set and test set are 2.25 2.25\n"
     ]
    }
   ],
   "source": [
    "##################prediction results, generate the data in table1.4.0#########\n",
    "cv = KFold(n_splits=9,shuffle=True)\n",
    "svm = SVC(gamma='auto',kernel='linear',probability=True)\n",
    "steps = [('under',under),('model',svm)]\n",
    "pipeline = Pipeline(steps=steps)\n",
    "scores =  cross_validate(pipeline, X, y, scoring=['recall','average_precision'], cv=cv, n_jobs=-1,return_train_score=True)\n",
    "print(\"The AP scores on training set and test set are\",sum(scores['train_average_precision'])/9,sum(scores['test_average_precision'])/9)\n",
    "print(\"The Recall scores on training set and test set are\",sum(scores['train_recall'])/9,sum(scores['test_recall'])/9)\n"
   ]
  },
  {
   "cell_type": "code",
   "execution_count": 22,
   "metadata": {},
   "outputs": [
    {
     "name": "stdout",
     "output_type": "stream",
     "text": [
      "The AP scores on training set and test set are 0.9925883586147175 0.9927206578197441\n",
      "The Recall scores on training set and test set are 0.9929711941771041 0.9930553504998465\n"
     ]
    }
   ],
   "source": [
    "cv = KFold(n_splits=9,shuffle=True)\n",
    "svm = SVC(gamma='auto',kernel='sigmoid',probability=True)\n",
    "steps = [('under',under),('model',svm)]\n",
    "pipeline = Pipeline(steps=steps)\n",
    "scores =  cross_validate(pipeline, X, y, scoring=['recall','average_precision'], cv=cv, n_jobs=-1,return_train_score=True)\n",
    "print(\"The AP scores on training set and test set are\",sum(scores['train_average_precision'])/9,sum(scores['test_average_precision'])/9)\n",
    "print(\"The Recall scores on training set and test set are\",sum(scores['train_recall'])/9,sum(scores['test_recall'])/9)\n"
   ]
  },
  {
   "cell_type": "code",
   "execution_count": null,
   "metadata": {},
   "outputs": [],
   "source": []
  }
 ],
 "metadata": {
  "kernelspec": {
   "display_name": "Python 3",
   "language": "python",
   "name": "python3"
  },
  "language_info": {
   "codemirror_mode": {
    "name": "ipython",
    "version": 3
   },
   "file_extension": ".py",
   "mimetype": "text/x-python",
   "name": "python",
   "nbconvert_exporter": "python",
   "pygments_lexer": "ipython3",
   "version": "3.7.6"
  }
 },
 "nbformat": 4,
 "nbformat_minor": 4
}
