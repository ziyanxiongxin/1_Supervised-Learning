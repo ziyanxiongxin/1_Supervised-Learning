{
 "cells": [
  {
   "cell_type": "code",
   "execution_count": 1,
   "metadata": {},
   "outputs": [
    {
     "name": "stdout",
     "output_type": "stream",
     "text": [
      "   val1  val2  val3  class\n",
      "0    74    85   123      1\n",
      "1    73    84   122      1\n",
      "2    72    83   121      1\n",
      "3    70    81   119      1\n",
      "4    70    81   119      1\n",
      "Counter({0: 194198, 1: 50859})\n"
     ]
    }
   ],
   "source": [
    "import pandas as pd\n",
    "from sklearn import tree\n",
    "from collections import Counter\n",
    "from sklearn.model_selection import train_test_split,cross_validate,KFold\n",
    "from sklearn.metrics import precision_score,roc_auc_score,accuracy_score\n",
    "import numpy as np\n",
    "import matplotlib.pyplot as plt\n",
    "import io\n",
    "# from google.colab import files\n",
    "\n",
    "# uploaded = files.upload()\n",
    "# #extract the data\n",
    "# raw_df = pd.read_csv(io.BytesIO(uploaded['Skin_NonSkin.txt']), delimiter='\t')\n",
    "\n",
    "\n",
    "\n",
    "\n",
    "# #extract the data\n",
    "raw_df = pd.read_csv('~/ML_class_projects/a_1/Skin_NonSkin.txt', delimiter='\t')\n",
    "cleaned_df = raw_df.copy()\n",
    "print(cleaned_df.head(5))\n",
    "\n",
    "cleaned_df['class']=np.array([1 if x==1 else 0 for x in cleaned_df['class']])\n",
    "\n",
    "#summarize data distribution\n",
    "y=np.array(cleaned_df['class'])\n",
    "X=np.array(cleaned_df.iloc[:,:-1])\n",
    "print(Counter(y))\n",
    "\n",
    "\n",
    "\n",
    "\n",
    "\n"
   ]
  },
  {
   "cell_type": "code",
   "execution_count": 2,
   "metadata": {},
   "outputs": [
    {
     "ename": "NameError",
     "evalue": "name 'm' is not defined",
     "output_type": "error",
     "traceback": [
      "\u001b[0;31m---------------------------------------------------------------------------\u001b[0m",
      "\u001b[0;31mNameError\u001b[0m                                 Traceback (most recent call last)",
      "\u001b[0;32m<ipython-input-2-687e8edef2e1>\u001b[0m in \u001b[0;36m<module>\u001b[0;34m\u001b[0m\n\u001b[1;32m     30\u001b[0m \u001b[0;31m#generate AUC tunning graph#####\u001b[0m\u001b[0;34m\u001b[0m\u001b[0;34m\u001b[0m\u001b[0;34m\u001b[0m\u001b[0m\n\u001b[1;32m     31\u001b[0m \u001b[0mfig_0\u001b[0m\u001b[0;34m,\u001b[0m \u001b[0maxs\u001b[0m \u001b[0;34m=\u001b[0m \u001b[0mplt\u001b[0m\u001b[0;34m.\u001b[0m\u001b[0msubplots\u001b[0m\u001b[0;34m(\u001b[0m\u001b[0;36m1\u001b[0m\u001b[0;34m,\u001b[0m \u001b[0;36m1\u001b[0m\u001b[0;34m,\u001b[0m \u001b[0mfigsize\u001b[0m\u001b[0;34m=\u001b[0m\u001b[0;34m(\u001b[0m\u001b[0;36m5\u001b[0m\u001b[0;34m,\u001b[0m \u001b[0;36m5\u001b[0m\u001b[0;34m)\u001b[0m\u001b[0;34m,\u001b[0m \u001b[0msharey\u001b[0m\u001b[0;34m=\u001b[0m\u001b[0;32mTrue\u001b[0m\u001b[0;34m)\u001b[0m\u001b[0;34m\u001b[0m\u001b[0;34m\u001b[0m\u001b[0m\n\u001b[0;32m---> 32\u001b[0;31m \u001b[0maxs\u001b[0m\u001b[0;34m.\u001b[0m\u001b[0mplot\u001b[0m\u001b[0;34m(\u001b[0m\u001b[0mMin_impurity_decrease\u001b[0m\u001b[0;34m[\u001b[0m\u001b[0;34m:\u001b[0m\u001b[0mm\u001b[0m\u001b[0;34m]\u001b[0m\u001b[0;34m,\u001b[0m\u001b[0mAUC_train_score_list\u001b[0m\u001b[0;34m[\u001b[0m\u001b[0;34m:\u001b[0m\u001b[0mm\u001b[0m\u001b[0;34m]\u001b[0m\u001b[0;34m,\u001b[0m\u001b[0;34m\"r^\"\u001b[0m\u001b[0;34m,\u001b[0m\u001b[0mlinestyle\u001b[0m \u001b[0;34m=\u001b[0m \u001b[0;34m\"--\"\u001b[0m\u001b[0;34m,\u001b[0m\u001b[0mlabel\u001b[0m\u001b[0;34m=\u001b[0m\u001b[0;34m'training data'\u001b[0m\u001b[0;34m)\u001b[0m\u001b[0;34m\u001b[0m\u001b[0;34m\u001b[0m\u001b[0m\n\u001b[0m\u001b[1;32m     33\u001b[0m \u001b[0maxs\u001b[0m\u001b[0;34m.\u001b[0m\u001b[0mplot\u001b[0m\u001b[0;34m(\u001b[0m\u001b[0mMin_impurity_decrease\u001b[0m\u001b[0;34m[\u001b[0m\u001b[0;34m:\u001b[0m\u001b[0mm\u001b[0m\u001b[0;34m]\u001b[0m\u001b[0;34m,\u001b[0m\u001b[0mAUC_test_score_list\u001b[0m\u001b[0;34m[\u001b[0m\u001b[0;34m:\u001b[0m\u001b[0mm\u001b[0m\u001b[0;34m]\u001b[0m\u001b[0;34m,\u001b[0m\u001b[0;34m\"b^\"\u001b[0m\u001b[0;34m,\u001b[0m\u001b[0mlinestyle\u001b[0m \u001b[0;34m=\u001b[0m \u001b[0;34m\"--\"\u001b[0m\u001b[0;34m,\u001b[0m\u001b[0mlabel\u001b[0m\u001b[0;34m=\u001b[0m\u001b[0;34m'test data'\u001b[0m\u001b[0;34m)\u001b[0m\u001b[0;34m\u001b[0m\u001b[0;34m\u001b[0m\u001b[0m\n\u001b[1;32m     34\u001b[0m \u001b[0maxs\u001b[0m\u001b[0;34m.\u001b[0m\u001b[0mset_xlabel\u001b[0m\u001b[0;34m(\u001b[0m\u001b[0;34m\"min_impurity_decrease\"\u001b[0m\u001b[0;34m)\u001b[0m\u001b[0;34m\u001b[0m\u001b[0;34m\u001b[0m\u001b[0m\n",
      "\u001b[0;31mNameError\u001b[0m: name 'm' is not defined"
     ]
    },
    {
     "data": {
      "image/png": "[encoded data removed]",
      "text/plain": [
       "<Figure size 360x360 with 1 Axes>"
      ]
     },
     "metadata": {
      "needs_background": "light"
     },
     "output_type": "display_data"
    }
   ],
   "source": [
    "###########Cross-validation to find the best Min_impurity_decrease#################\n",
    "#test overfitting methods: max_depth,min_samples_split,min_samples_leaf, choose min_impurity_decrease\n",
    "# Min_impurity_decrease=[0,0.000000002,0.000000005,0.00000001,0.0000001,0.0000002,0.0000004,0.0000006]\n",
    "# ,0.0000008,0.000001,0.000002,0.000004,0.000006,0.000008,0.00001,0.00005,0.0001]\n",
    "# ,0.0000008,0.000001]\n",
    "# ,0.000002,0.000004,0.000006,0.000008,0.00001,0.00005,0.0001]\n",
    "\n",
    "t=10\n",
    "cv = KFold(n_splits=t,shuffle=True)\n",
    "\n",
    "\n",
    "AUC_train_score_list=[]\n",
    "AUC_test_score_list=[]\n",
    "\n",
    "Min_impurity_decrease=[0,1e-10,5e-10,8e-10,1e-9,5e-9,1e-8,5e-8,1e-7,5e-7,1e-6,5e-5,1e-5,5e-5,1e-4,5e-4,1e-3,5e-3]\n",
    "#0.0000000001,0.000000002,0.000000003,0.000000004,0.000000005,0.00000001,0.0000001]\n",
    "# ,0.0000002,0.0000004,0.0000006]\n",
    "# ,0.0000004,0.0000006,0.0002,0.0005,0.001,0.0015,0.002,0.005,0.01,0.05,0.1]\n",
    "\n",
    "\n",
    "\n",
    "for min_impurity_decrease in Min_impurity_decrease:\n",
    "    #define pipline\n",
    "    clf = tree.DecisionTreeClassifier(min_impurity_decrease=min_impurity_decrease)\n",
    "    scores =  cross_validate(clf, X, y, scoring=['precision','roc_auc'], cv=cv, n_jobs=-1,return_train_score=True)\n",
    "    AUC_train_score_list.append(sum(scores['train_roc_auc'])/t)\n",
    "    AUC_test_score_list.append(sum(scores['test_roc_auc'])/t)\n",
    "    \n",
    "\n",
    "#generate AUC tunning graph#####\n",
    "fig_0, axs = plt.subplots(1, 1, figsize=(10, 5), sharey=True)\n",
    "axs.plot(Min_impurity_decrease,AUC_train_score_list,\"r^\",linestyle = \"--\",label='training data')\n",
    "axs.plot(Min_impurity_decrease,AUC_test_score_list,\"b^\",linestyle = \"--\",label='test data')\n",
    "axs.set_xlabel(\"min_impurity_decrease\")\n",
    "axs.set_ylabel(\"AUC_score\")\n",
    "axs.legend()\n",
    "fig_0.suptitle(\"Fig_2.1.0: AUC_score(Decision Tree Tuning)\")\n",
    "\n",
    "fig_0.savefig(\"Decision_fig_2.0:AUC_score for tunning.png\")\n",
    "\n"
   ]
  },
  {
   "cell_type": "code",
   "execution_count": 7,
   "metadata": {},
   "outputs": [
    {
     "data": {
      "image/png": "[encoded data removed]",
      "text/plain": [
       "<Figure size 1080x360 with 3 Axes>"
      ]
     },
     "metadata": {
      "needs_background": "light"
     },
     "output_type": "display_data"
    }
   ],
   "source": [
    "###############Apply the parameter min_impurity_decrease=1e-3 to train the model#############\n",
    "#######generate learning curves Fig_2.1.1 with increasing training size#######\n",
    "\n",
    "Accuracy_train_score=[]\n",
    "Accuracy_test_score=[]\n",
    "Precision_train_score=[]\n",
    "Precision_test_score=[]\n",
    "training_time = []\n",
    "\n",
    "for k in range(4,11):\n",
    "    cv = KFold(n_splits=k,shuffle=True)\n",
    "    clf = tree.DecisionTreeClassifier(min_impurity_decrease=1e-3)\n",
    "    scores =  cross_validate(clf, X, y, scoring=['accuracy','precision'], cv=cv, n_jobs=-1,return_train_score=True)\n",
    "    \n",
    "    training_time.append(sum(scores['fit_time'])/k)\n",
    "    Accuracy_train_score.append(sum(scores['train_accuracy'])/k)\n",
    "    Accuracy_test_score.append(sum(scores['test_accuracy'])/k)\n",
    "    Precision_train_score.append(sum(scores['train_precision'])/k)\n",
    "    Precision_test_score.append(sum(scores['test_precision'])/k)\n",
    "    \n",
    "    \n",
    "K= range(4,11)\n",
    "fig_1, axs = plt.subplots(1, 3, figsize=(15, 5), sharey=True)\n",
    "axs[0].plot(K,training_time,\"r^\",linestyle = \"--\",label=\"traing_time:seconds\")\n",
    "axs[0].set_xlabel(\"training size k\")\n",
    "axs[0].set_ylabel(\"training time\")\n",
    "axs[1].plot(K,Precision_train_score,\"r^\",linestyle = \"--\",label='training data')\n",
    "axs[1].plot(K,Precision_test_score,\"b^\",linestyle = \"--\",label='test data')\n",
    "axs[1].set_xlabel(\"training size k\")\n",
    "axs[1].set_ylabel(\"precision_score\")\n",
    "axs[2].plot(K,Accuracy_train_score,\"r^\",linestyle = \"--\",label='training data')\n",
    "axs[2].plot(K,Accuracy_test_score,\"b^\",linestyle = \"--\",label='test data')\n",
    "axs[2].set_xlabel(\"training size k\")\n",
    "axs[2].set_ylabel(\"accuracy_score\")\n",
    "axs[0].legend()\n",
    "axs[1].legend()\n",
    "axs[2].legend()\n",
    "fig_1.suptitle(\"Fig_2.1.1: learning curves\")\n",
    "\n",
    "fig_1.savefig(\"Decision_fig_2.1:learning curves.png\")\n",
    "\n",
    "\n"
   ]
  },
  {
   "cell_type": "code",
   "execution_count": 12,
   "metadata": {},
   "outputs": [
    {
     "name": "stdout",
     "output_type": "stream",
     "text": [
      "decision_tree depth without and with prunning is: 24 6\n",
      "precision_score on training data for decision_tree without and with prunning are: 0.9999474251465524 0.9579521418924084\n",
      "accuracy_score on training data using decision_tree without and with prunning are: 0.9999673544006268 0.9885631583529207\n",
      "precision_score on test data using decision_tree without and with prunning are: 0.998439328911432 0.9581187518933656\n",
      "accuracy_score on test data using decision_tree without and with prunning are: 0.9993307761364564 0.988280421121358\n"
     ]
    }
   ],
   "source": [
    "##Compare scores and tree_depth without and with prunning, generate data in table_2.1.0###########\n",
    "X_train, X_test, y_train, y_test = train_test_split(X, y, test_size=1/4)\n",
    "clf1 = tree.DecisionTreeClassifier()\n",
    "clf2= tree.DecisionTreeClassifier(min_impurity_decrease=1e-3)\n",
    "clf1.fit(X_train,y_train)\n",
    "clf2.fit(X_train,y_train)\n",
    "print(\"decision_tree depth without and with prunning is:\", clf1.get_depth(),clf2.get_depth())\n",
    "print(\"precision_score on training data for decision_tree without and with prunning are:\",precision_score(y_train,clf1.predict(X_train)),precision_score(y_train,clf2.predict(X_train)))\n",
    "print(\"accuracy_score on training data using decision_tree without and with prunning are:\",accuracy_score(y_train,clf1.predict(X_train)),accuracy_score(y_train,clf2.predict(X_train)))\n",
    "print(\"precision_score on test data using decision_tree without and with prunning are:\",precision_score(y_test,clf1.predict(X_test)),precision_score(y_test,clf2.predict(X_test)))\n",
    "print(\"accuracy_score on test data using decision_tree without and with prunning are:\",accuracy_score(y_test,clf1.predict(X_test)),accuracy_score(y_test,clf2.predict(X_test)))\n"
   ]
  },
  {
   "cell_type": "code",
   "execution_count": null,
   "metadata": {},
   "outputs": [],
   "source": []
  }
 ],
 "metadata": {
  "kernelspec": {
   "display_name": "Python 3",
   "language": "python",
   "name": "python3"
  },
  "language_info": {
   "codemirror_mode": {
    "name": "ipython",
    "version": 3
   },
   "file_extension": ".py",
   "mimetype": "text/x-python",
   "name": "python",
   "nbconvert_exporter": "python",
   "pygments_lexer": "ipython3",
   "version": "3.7.7"
  }
 },
 "nbformat": 4,
 "nbformat_minor": 4
}
