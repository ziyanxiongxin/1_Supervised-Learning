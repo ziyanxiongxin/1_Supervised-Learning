{
 "cells": [
  {
   "cell_type": "code",
   "execution_count": 1,
   "metadata": {},
   "outputs": [
    {
     "name": "stdout",
     "output_type": "stream",
     "text": [
      "   val1  val2  val3  class\n",
      "0    74    85   123      1\n",
      "1    73    84   122      1\n",
      "2    72    83   121      1\n",
      "3    70    81   119      1\n",
      "4    70    81   119      1\n",
      "Counter({0: 194198, 1: 50859})\n"
     ]
    }
   ],
   "source": [
    "import pandas as pd\n",
    "from collections import Counter\n",
    "from sklearn.model_selection import train_test_split,KFold,cross_validate\n",
    "import numpy as np\n",
    "from sklearn.metrics import precision_score,roc_auc_score,accuracy_score\n",
    "from sklearn.svm import SVC\n",
    "from sklearn.preprocessing import StandardScaler\n",
    "import matplotlib.pyplot as plt\n",
    "\n",
    "\n",
    "# #extract the data\n",
    "raw_df = pd.read_csv('../Skin_NonSkin.txt', delimiter='\t',names=[\"val1\", \"val2\", \"val3\", \"class\"])\n",
    "cleaned_df = raw_df.copy()\n",
    "\n",
    "\n",
    "cleaned_df['class']=np.array([1 if x==1 else 0 for x in cleaned_df['class']])\n",
    "print(cleaned_df.head(5))\n",
    "#summarize data distribution\n",
    "y=np.array(cleaned_df['class'])\n",
    "X=np.array(cleaned_df.iloc[:,:-1])\n",
    "print(Counter(y))\n",
    "\n",
    "#rescale data\n",
    "scaler = StandardScaler()\n",
    "X = scaler.fit_transform(X)\n"
   ]
  },
  {
   "cell_type": "code",
   "execution_count": null,
   "metadata": {},
   "outputs": [],
   "source": [
    "##cross validation to find out the best kernel to train the model###\n",
    "t=10\n",
    "cv = KFold(n_splits=t,shuffle=True)\n",
    "AUC_train_score_list=[]\n",
    "AUC_test_score_list=[]\n",
    "\n",
    "kernels=['linear','poly']\n",
    "# parameters=(n_neighbors=5, *, weights='uniform', algorithm='auto', leaf_size=30, p=2, metric='minkowski', metric_params=None, n_jobs=None, **kwargs)[source]\n",
    "for kernel in kernels:\n",
    "    svm = SVC(gamma='auto',kernel=kernel,probability=True)\n",
    "    scores =  cross_validate(svm, X, y, scoring=['roc_auc'], cv=cv, n_jobs=-1,return_train_score=True)\n",
    "    \n",
    "    AUC_train_score_list.append(sum(scores['train_roc_auc'])/t)\n",
    "    AUC_test_score_list.append(sum(scores['test_roc_auc'])/t)\n",
    "    print(***)\n",
    "m = len(kernels)\n",
    "# #generate Fig_0,Fig_1\n",
    "fig_0, axs = plt.subplots(1, 1, figsize=(5, 5), sharey=True)\n",
    "axs.plot(kernels,AUC_train_score_list,\"r^\",linestyle = \"--\", label='training data')\n",
    "axs.plot(kernels,AUC_test_score_list,\"b^\",linestyle = \"--\",label='test data')\n",
    "axs.set_xlabel(\"Kernels\")\n",
    "axs.set_ylabel(\"AUC_score\")\n",
    "axs.legend()\n",
    "fig_0.suptitle(\"Fig_2.4.0: AUC_score(SVM)\")\n",
    "fig_0.savefig(\"SVM_fig_2.4_tunning:AP_score.png\")\n",
    "\n",
    "\n"
   ]
  },
  {
   "cell_type": "code",
   "execution_count": null,
   "metadata": {},
   "outputs": [],
   "source": [
    "###############Apply kernel=****** to train the model##################\n",
    "Accuracy_train_score=[]\n",
    "Accuracy_test_score=[]\n",
    "Precision_train_score=[]\n",
    "Precision_test_score=[]\n",
    "training_time = []\n",
    "\n",
    "for k in range(4,11):\n",
    "    cv = KFold(n_splits=k,shuffle=True)\n",
    "    svm = SVC(gamma='auto',kernel='******',probability=True)\n",
    "    steps = [('under',under),('model',svm)]\n",
    "    pipeline = Pipeline(steps=steps)\n",
    "    scores =  cross_validate(pipeline, X, y, scoring=['recall'], cv=cv, n_jobs=-1,return_train_score=True)\n",
    "    Recall_train_score.append(sum(scores['train_recall'])/k)\n",
    "    Recall_test_score_list.append(sum(scores['test_recall'])/k)\n",
    "    training_time.append(sum(scores['fit_time'])/k)\n",
    "    \n",
    "#generate Fig_2.4.1\n",
    "K= range(4,11)\n",
    "fig_3, axs = plt.subplots(1, 3, figsize=(15, 5), sharey=False)\n",
    "axs[0].plot(K,training_time,\"r^\",linestyle = \"--\",label=\"traing_time:seconds\")\n",
    "axs[0].set_xlabel(\"training size k\")\n",
    "axs[0].set_ylabel(\"training time\")\n",
    "axs[1].plot(K,Accuracy_train_score,\"r^\",linestyle = \"--\",label='training data')\n",
    "axs[1].plot(K,Accuracy_test_score,\"b^\",linestyle = \"--\",label='test data')\n",
    "axs[1].set_xlabel(\"training size k\")\n",
    "axs[1].set_ylabel(\"accuracy_score\")\n",
    "axs[2].plot(K,Precision_train_score,\"r^\",linestyle = \"--\",label='training data')\n",
    "axs[2].plot(K,Precision_test_score,\"b^\",linestyle = \"--\",label='test data')\n",
    "axs[2].set_xlabel(\"training size k\")\n",
    "axs[2].set_ylabel(\"precision_score\")\n",
    "axs[0].legend()\n",
    "axs[1].legend()\n",
    "axs[2].legend()\n",
    "fig_1.suptitle(\"Fig_2.4.1: recall score(NN)\")\n",
    "fig_1.savefig(\"NN_fig_2.4_trainnig:learning curves.png\")\n",
    "    "
   ]
  },
  {
   "cell_type": "code",
   "execution_count": null,
   "metadata": {},
   "outputs": [],
   "source": [
    "##################prediction results, generate the data in table1.4.0#########\n",
    "cv = KFold(n_splits=****,shuffle=True)\n",
    "svm = SVC(gamma='auto',kernel=******,probability=True)\n",
    "scores =  cross_validate(svm, X, y, scoring=['recall','average_precision'], cv=cv, n_jobs=-1,return_train_score=True)\n",
    "print(\"The AP scores on training set and test set are\",sum(scores['train_average_precision'])/4,sum(scores['test_average_precision'])/4)\n",
    "print(\"The Recall scores on training set and test set are\",sum(scores['train_recall'])/4,sum(scores['test_recall'])/4)\n"
   ]
  },
  {
   "cell_type": "code",
   "execution_count": null,
   "metadata": {},
   "outputs": [],
   "source": []
  }
 ],
 "metadata": {
  "kernelspec": {
   "display_name": "Python 3",
   "language": "python",
   "name": "python3"
  },
  "language_info": {
   "codemirror_mode": {
    "name": "ipython",
    "version": 3
   },
   "file_extension": ".py",
   "mimetype": "text/x-python",
   "name": "python",
   "nbconvert_exporter": "python",
   "pygments_lexer": "ipython3",
   "version": "3.7.6"
  }
 },
 "nbformat": 4,
 "nbformat_minor": 4
}
