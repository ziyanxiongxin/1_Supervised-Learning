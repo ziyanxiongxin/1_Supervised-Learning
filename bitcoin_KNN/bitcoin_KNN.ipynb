{
 "cells": [
  {
   "cell_type": "code",
   "execution_count": 2,
   "metadata": {},
   "outputs": [
    {
     "name": "stdout",
     "output_type": "stream",
     "text": [
      "   length  count  looped  neighbors  class  Log income  Log weight\n",
      "0      18      1       0          2      1   18.421181   -4.674163\n",
      "1      44      1       0          1      1   18.420681   -6.689310\n",
      "2       0      1       0          2      1   19.113828    0.001000\n",
      "3      72      1       0          2      1   18.081003   -5.317245\n",
      "4     144    456       0          1      1   19.113828   -2.605741\n",
      "Counter({0: 2875284, 1: 41413})\n"
     ]
    }
   ],
   "source": [
    "import pandas as pd\n",
    "from collections import Counter\n",
    "from sklearn.neighbors import KNeighborsClassifier\n",
    "from sklearn.model_selection import KFold,cross_validate,train_test_split\n",
    "from sklearn.preprocessing import StandardScaler\n",
    "from imblearn.under_sampling import RandomUnderSampler\n",
    "from imblearn.pipeline import Pipeline\n",
    "import numpy as np\n",
    "from sklearn.metrics import precision_recall_curve,average_precision_score,precision_score,recall_score,accuracy_score\n",
    "import time\n",
    "import matplotlib.pyplot as plt\n",
    "\n",
    "import io\n",
    "\n",
    "\n",
    "# uploaded = files.upload()\n",
    "# #extract the data\n",
    "# raw_df = pd.read_csv(io.BytesIO(uploaded['BitcoinHeistData.csv']))\n",
    "\n",
    "raw_df = pd.read_csv(\"~/ML_class_projects/a_1/BitcoinHeistData.csv\")\n",
    "cleaned_df = raw_df.copy()\n",
    "#clean the data\n",
    "cleaned_df['class']=np.array([0 if x=='white' else 1 for x in cleaned_df.pop('label')])\n",
    "eps=0.001 # 0 => 0.1¢\n",
    "cleaned_df['Log income'] = np.log(cleaned_df.pop('income')+eps)\n",
    "cleaned_df['Log weight'] = np.log(cleaned_df.pop('weight')+eps)\n",
    "cleaned_df.pop(\"address\")\n",
    "cleaned_df.pop(\"year\")\n",
    "cleaned_df.pop(\"day\")\n",
    "print(cleaned_df.head(5))\n",
    "\n",
    "\n",
    "#summarize the data distribution\n",
    "y=np.array(cleaned_df['class'])\n",
    "X=np.array(cleaned_df.iloc[:,:-1])\n",
    "print(Counter(y))\n",
    "\n",
    "#rescale data\n",
    "scaler = StandardScaler()\n",
    "X = scaler.fit_transform(X)\n",
    "\n",
    "\n",
    "#define the undersampling method\n",
    "under = RandomUnderSampler(sampling_strategy=0.5)\n",
    "\n"
   ]
  },
  {
   "cell_type": "code",
   "execution_count": 3,
   "metadata": {},
   "outputs": [
    {
     "ename": "NameError",
     "evalue": "name 'recall_train_score_list' is not defined",
     "output_type": "error",
     "traceback": [
      "\u001b[0;31m---------------------------------------------------------------------------\u001b[0m",
      "\u001b[0;31mNameError\u001b[0m                                 Traceback (most recent call last)",
      "\u001b[0;32m<ipython-input-3-856a767df218>\u001b[0m in \u001b[0;36m<module>\u001b[0;34m\u001b[0m\n\u001b[1;32m     19\u001b[0m \u001b[0;31m# #generate Fig_1.5.\u001b[0m\u001b[0;34m\u001b[0m\u001b[0;34m\u001b[0m\u001b[0;34m\u001b[0m\u001b[0m\n\u001b[1;32m     20\u001b[0m \u001b[0mfig_0\u001b[0m\u001b[0;34m,\u001b[0m \u001b[0maxs\u001b[0m \u001b[0;34m=\u001b[0m \u001b[0mplt\u001b[0m\u001b[0;34m.\u001b[0m\u001b[0msubplots\u001b[0m\u001b[0;34m(\u001b[0m\u001b[0;36m1\u001b[0m\u001b[0;34m,\u001b[0m \u001b[0;36m1\u001b[0m\u001b[0;34m,\u001b[0m \u001b[0mfigsize\u001b[0m\u001b[0;34m=\u001b[0m\u001b[0;34m(\u001b[0m\u001b[0;36m5\u001b[0m\u001b[0;34m,\u001b[0m \u001b[0;36m5\u001b[0m\u001b[0;34m)\u001b[0m\u001b[0;34m,\u001b[0m \u001b[0msharey\u001b[0m\u001b[0;34m=\u001b[0m\u001b[0;32mTrue\u001b[0m\u001b[0;34m)\u001b[0m\u001b[0;34m\u001b[0m\u001b[0;34m\u001b[0m\u001b[0m\n\u001b[0;32m---> 21\u001b[0;31m \u001b[0maxs\u001b[0m\u001b[0;34m.\u001b[0m\u001b[0mplot\u001b[0m\u001b[0;34m(\u001b[0m\u001b[0mneighbors_num\u001b[0m\u001b[0;34m,\u001b[0m\u001b[0mrecall_train_score_list\u001b[0m\u001b[0;34m,\u001b[0m\u001b[0;34m\"r^\"\u001b[0m\u001b[0;34m,\u001b[0m\u001b[0mlinestyle\u001b[0m \u001b[0;34m=\u001b[0m \u001b[0;34m\"--\"\u001b[0m\u001b[0;34m,\u001b[0m \u001b[0mlabel\u001b[0m\u001b[0;34m=\u001b[0m\u001b[0;34m'training data'\u001b[0m\u001b[0;34m)\u001b[0m\u001b[0;34m\u001b[0m\u001b[0;34m\u001b[0m\u001b[0m\n\u001b[0m\u001b[1;32m     22\u001b[0m \u001b[0maxs\u001b[0m\u001b[0;34m.\u001b[0m\u001b[0mplot\u001b[0m\u001b[0;34m(\u001b[0m\u001b[0mneighbors_num\u001b[0m\u001b[0;34m,\u001b[0m\u001b[0mrecall_test_score_list\u001b[0m\u001b[0;34m,\u001b[0m\u001b[0;34m\"b^\"\u001b[0m\u001b[0;34m,\u001b[0m\u001b[0mlinestyle\u001b[0m \u001b[0;34m=\u001b[0m \u001b[0;34m\"--\"\u001b[0m\u001b[0;34m,\u001b[0m\u001b[0mlabel\u001b[0m\u001b[0;34m=\u001b[0m\u001b[0;34m'test data'\u001b[0m\u001b[0;34m)\u001b[0m\u001b[0;34m\u001b[0m\u001b[0;34m\u001b[0m\u001b[0m\n\u001b[1;32m     23\u001b[0m \u001b[0maxs\u001b[0m\u001b[0;34m.\u001b[0m\u001b[0mset_xlabel\u001b[0m\u001b[0;34m(\u001b[0m\u001b[0;34m\"neighbors_num\"\u001b[0m\u001b[0;34m)\u001b[0m\u001b[0;34m\u001b[0m\u001b[0;34m\u001b[0m\u001b[0m\n",
      "\u001b[0;31mNameError\u001b[0m: name 'recall_train_score_list' is not defined"
     ]
    },
    {
     "data": {
      "image/png": "[encoded data removed]",
      "text/plain": [
       "<Figure size 360x360 with 1 Axes>"
      ]
     },
     "metadata": {
      "needs_background": "light"
     },
     "output_type": "display_data"
    }
   ],
   "source": [
    "##cross validation to find out the best neighbor number using kd_tree or ball_tree###\n",
    "t=7\n",
    "cv = KFold(n_splits=t,shuffle=True)\n",
    "AP_train_score_list=[]\n",
    "AP_test_score_list=[]\n",
    "\n",
    "neighbors_num = [3,4,5,6,7]\n",
    "algorithms = ['kd_tree','ball_tree']\n",
    "# parameters=(n_neighbors=5, *, weights='uniform', algorithm='auto', leaf_size=30, p=2, metric='minkowski', metric_params=None, n_jobs=None, **kwargs)[source]\n",
    "for neighbors in neighbors_num:\n",
    "    neigh = KNeighborsClassifier(n_neighbors=neighbors,weights='distance',algorithm='kd_tree')\n",
    "    steps = [('under',under),('model',neigh)]\n",
    "    pipeline = Pipeline(steps=steps)\n",
    "    scores =  cross_validate(pipeline, X, y, scoring=['average_precision'], cv=cv, n_jobs=-1,return_train_score=True)\n",
    "    AP_train_score_list.append(sum(scores['train_average_precision'])/t)\n",
    "    AP_test_score_list.append(sum(scores['test_average_precision'])/t)\n",
    "    \n",
    "\n",
    "# #generate Fig_1.5.0.\n",
    "fig_0, axs = plt.subplots(1, 1, figsize=(5, 5), sharey=True)\n",
    "axs.plot(neighbors_num,AP_train_score_list,\"r^\",linestyle = \"--\", label='training data')\n",
    "axs.plot(neighbors_num,AP_test_score_list,\"b^\",linestyle = \"--\",label='test data')\n",
    "axs.set_xlabel(\"neighbors_num\")\n",
    "axs.set_ylabel(\"AP score\")\n",
    "axs.legend()\n",
    "fig_0.suptitle(\"Fig_1.5.0: AP_score(kd_tree)\")\n",
    "fig_0.savefig(\"KNN_fig_1.5_tunning:AP score.png\")\n",
    "\n",
    "\n"
   ]
  },
  {
   "cell_type": "code",
   "execution_count": null,
   "metadata": {},
   "outputs": [],
   "source": [
    "########check if using ball_tree can get higher AP score######\n",
    "# neigh = KNeighborsClassifier(n_neighbors=**********,weights='distance',algorithm='ball_tree')\n",
    "# steps = [('under',under),('model',neigh)]\n",
    "# pipeline = Pipeline(steps=steps)\n",
    "# scores =  cross_validate(pipeline, X, y, scoring=['average_precision'], cv=cv, n_jobs=-1,return_train_score=True)\n",
    "# print(\"AP_score on training set if using ball_tree to store:\",sum(scores['train_average_precision'])/t)\n",
    "# print(\"AP_score on test set if using ball_tree to store:\",sum(scores['test_average_precision'])/t)\n",
    "    "
   ]
  },
  {
   "cell_type": "code",
   "execution_count": 6,
   "metadata": {},
   "outputs": [
    {
     "data": {
      "image/png": "[encoded data removed]",
      "text/plain": [
       "<Figure size 720x360 with 2 Axes>"
      ]
     },
     "metadata": {
      "needs_background": "light"
     },
     "output_type": "display_data"
    }
   ],
   "source": [
    "###############Apply neighbors_num and storing methods to train the model##################\n",
    "Recall_train_score=[]\n",
    "Recall_test_score=[]\n",
    "training_time = []\n",
    "\n",
    "for k in range(4,11):\n",
    "    cv = KFold(n_splits=k,shuffle=True)\n",
    "    neigh = KNeighborsClassifier(n_neighbors=3,weights='distance',algorithm='kd_tree')\n",
    "    steps = [('under',under),('model',neigh)]\n",
    "    pipeline = Pipeline(steps=steps)\n",
    "    scores =  cross_validate(pipeline, X, y, scoring=['recall'], cv=cv, n_jobs=-1,return_train_score=True)\n",
    "    Recall_train_score.append(sum(scores['train_recall'])/k)\n",
    "    Recall_test_score.append(sum(scores['test_recall'])/k)\n",
    "    training_time.append(sum(scores['fit_time'])/k)\n",
    "    \n",
    "K= range(4,11)\n",
    "##generate Fig_1.5.1\n",
    "fig_1, axs = plt.subplots(1, 2, figsize=(10, 5), sharey=False)\n",
    "axs[0].plot(K,training_time,\"r^\",linestyle = \"--\",label=\"traing_time:seconds\")\n",
    "axs[0].set_xlabel(\"training size k\")\n",
    "axs[0].set_ylabel(\"training time\")\n",
    "axs[1].plot(K,Recall_train_score,\"r^\",linestyle = \"--\",label='training data')\n",
    "axs[1].plot(K,Recall_test_score,\"b^\",linestyle = \"--\",label='test data')\n",
    "axs[1].set_xlabel(\"training size k\")\n",
    "axs[1].set_ylabel(\"Recall_score\")\n",
    "axs[0].legend()\n",
    "axs[1].legend()\n",
    "fig_1.suptitle(\"Fig_1.5.1: recall score(KNN)\")\n",
    "fig_1.savefig(\"NN_fig_1.5_trainnig:learning curves.png\")\n",
    "    "
   ]
  },
  {
   "cell_type": "code",
   "execution_count": 8,
   "metadata": {},
   "outputs": [
    {
     "name": "stdout",
     "output_type": "stream",
     "text": [
      "The AP scores on training set and test set are 1.0 1.0\n",
      "The recall scores on training set and test set are 1.0 1.0\n"
     ]
    }
   ],
   "source": [
    "##################prediction results, generate the data in table1.5.0#########\n",
    "from sklearn.model_selection import train_test_split\n",
    "X_train, X_test, y_train, y_test = train_test_split(X, y, test_size=1/9, random_state=123)\n",
    "neigh = KNeighborsClassifier(n_neighbors=3,weights='distance',algorithm='kd_tree')\n",
    "X_train_under,y_train_under=under.fit_resample(X_train,y_train)\n",
    "neigh.fit(X_train_under,y_train_under)\n",
    "y_train_predict_proba=neigh.predict_proba(X_train)[:,1]\n",
    "y_test_predict_proba =neigh.predict_proba(X_test)[:,1]\n",
    "\n",
    "print(\"The AP scores on training set and test set are\",average_precision_score(y_train,y_train_predict_proba),average_precision_score(y_test,y_test_predict_proba))\n",
    "print(\"The recall scores on training set and test set are\",recall_score(y_train,neigh.predict(X_train)),recall_score(y_test,neigh.predict(X_test)))\n",
    "      \n",
    "      \n",
    "          \n",
    "      \n",
    "      "
   ]
  },
  {
   "cell_type": "code",
   "execution_count": 10,
   "metadata": {},
   "outputs": [
    {
     "data": {
      "text/plain": [
       "41413"
      ]
     },
     "execution_count": 10,
     "metadata": {},
     "output_type": "execute_result"
    }
   ],
   "source": [
    "sum(neigh.predict(X_train))+sum(neigh.predict(X_test))"
   ]
  },
  {
   "cell_type": "code",
   "execution_count": null,
   "metadata": {},
   "outputs": [],
   "source": []
  }
 ],
 "metadata": {
  "kernelspec": {
   "display_name": "Python 3",
   "language": "python",
   "name": "python3"
  },
  "language_info": {
   "codemirror_mode": {
    "name": "ipython",
    "version": 3
   },
   "file_extension": ".py",
   "mimetype": "text/x-python",
   "name": "python",
   "nbconvert_exporter": "python",
   "pygments_lexer": "ipython3",
   "version": "3.7.7"
  }
 },
 "nbformat": 4,
 "nbformat_minor": 4
}
